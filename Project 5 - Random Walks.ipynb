{
 "cells": [
  {
   "cell_type": "markdown",
   "metadata": {
    "collapsed": false
   },
   "source": [
    "**Double click here and enter the student numbers for all minigroup members. Don't enter any names.**\n",
    "1. **First student number**\n",
    "2. **Second student number**\n",
    "3. **Third student number.**\n",
    "\n",
    "Before you start work on the project, **[click on this link to read the MATH0011 project instructions.](https://www.ucl.ac.uk/~ucahmto/0011/projectinstructions.html)**"
   ]
  },
  {
   "attachments": {
    "rw.png": {
     "image/png": "[encoded data removed]"
    }
   },
   "cell_type": "markdown",
   "metadata": {
    "collapsed": false
   },
   "source": [
    "This project is about discrete time [random walks](https://en.wikipedia.org/wiki/Random_walk).  They are heavily studied both for theoretical interest and for their applications in many real-world situations.  The project is a good choice for people interested in statistics and random processes and who want to learn more about random simulations and plotting in Python.\n",
    "\n",
    "# Project 2 - Random Walks\n",
    "\n",
    "![Picture of the number line. For each i there is an arrow from i to i+1 labelled by p and an arrow from i to i-1 labelled by q.](attachment:rw.png)\n",
    "\n",
    "Suppose that I start at position 0 on the number line. Every second I either move to the right (with probability $p$) or to the left (with probability $q=1-p$).  How likely is it that I will ever visit position 0 again?  How far from 0 am I, on average, after $n$ seconds?  What if instead of walking on a line, I started at position $(0,0)$ in the plane and each second I moved one step north, south, east, or west randomly?\n",
    "In this project you will study such one and two-dimensional *random walks*, plot their trajectories, and investigate mean distances from the origin.\n",
    "\n",
    "The next cell imports some useful modules and configures `matplotlib` for use in a Jupyter notebook."
   ]
  },
  {
   "cell_type": "code",
   "execution_count": 1,
   "metadata": {
    "collapsed": false
   },
   "outputs": [
   ],
   "source": [
    "import math\n",
    "import matplotlib.pyplot as plt\n",
    "import scipy.stats\n",
    "import random\n",
    "import numpy as np"
   ]
  },
  {
   "cell_type": "markdown",
   "metadata": {
    "collapsed": false
   },
   "source": [
    "## Part 1\n",
    "\n"
   ]
  },
  {
   "cell_type": "markdown",
   "metadata": {
    "collapsed": false
   },
   "source": [
    "Consider a sequence $x_0, \\ldots, x_m$ where $x_0= 0$ and \n",
    "\n",
    "$$x_{i+1} = \\begin{cases} x_i + 1 & \\text{with probability } p\\\\\n",
    "x_i - 1 & \\text{with probability } 1-p \\end{cases}$$\n",
    "\n",
    "**Write a function `random_walk(m, p)` which returns a list of values `[x0, x1, x2, ..., xm]` generated in this way.**\n",
    "\n",
    "To generate an event with probability $p$ you could use [`scipy.stats.bernoulli`](https://docs.scipy.org/doc/scipy-0.14.0/reference/generated/scipy.stats.bernoulli.html), or [`numpy.random.binomial`](https://docs.scipy.org/doc/numpy-1.14.0/reference/generated/numpy.random.binomial.html) with `n = 1`, or [`random.random()`](https://docs.python.org/3.7/library/random.html#random.random) which produces a uniformly distributed random number in $[0,1)$, so the probability it is less than $p$ is $p$.\n",
    "\n",
    "**Use `plt.plot` to plot the points $(i, x_i)$ for $0 \\leq i \\leq 1000$ where the $x_i$ are generated by `random_walk(1000, p)` for `p=0.5` and `p=0.7`** (on separate axes)."
   ]
  },
  {
   "cell_type": "code",
   "execution_count": 2,
   "metadata": {
    "collapsed": false
   },
   "outputs": [
   ],
   "source": [
    "def random_walk(m, p):\n",
    "    # your code goes here"
   ]
  },
  {
   "cell_type": "code",
   "execution_count": 0,
   "metadata": {
    "collapsed": false
   },
   "outputs": [
   ],
   "source": [
    "# plot the p=0.5 random walk in this cell"
   ]
  },
  {
   "cell_type": "code",
   "execution_count": 0,
   "metadata": {
    "collapsed": false
   },
   "outputs": [
   ],
   "source": [
    "# plot the p=0.7 random walk in this cell"
   ]
  },
  {
   "cell_type": "markdown",
   "metadata": {
    "collapsed": false
   },
   "source": [
    "## Part 2\n",
    "\n",
    "In this exercise you will estimate the probability that $x_i = 0$ for some $i>0$ in the random walk described in Exercise 1.  That is, you are estimating the probability the random walk ever revisits 0.\n",
    "\n",
    "Write a program to generate 1000 different random walks with `m=2000` and outputs how many of those 1000 random walks ever revisit 0, divided by 1000 - this is an estimate of the probability of revisiting 0.  Do this for `p=0.5, p=0.6`, and `p=0.4`. You might find it helpful to re-use or modify the function you wrote in Exercise 1"
   ]
  },
  {
   "cell_type": "code",
   "execution_count": 0,
   "metadata": {
    "collapsed": false
   },
   "outputs": [
   ],
   "source": [
   ]
  },
  {
   "cell_type": "code",
   "execution_count": 0,
   "metadata": {
    "collapsed": false
   },
   "outputs": [
   ],
   "source": [
   ]
  },
  {
   "cell_type": "code",
   "execution_count": 0,
   "metadata": {
    "collapsed": false
   },
   "outputs": [
   ],
   "source": [
   ]
  },
  {
   "cell_type": "markdown",
   "metadata": {
    "collapsed": false
   },
   "source": [
    "## Part 3\n",
    "\n",
    "Now you are going to generate a random walk in two dimensions.  This will start at $(0,0)$ and at every step move north, south, east, or west each with probability $1/4$.  In other words you will generate a sequence $(x_i, y_i)$ such that $(x_0, y_0)=(0,0)$ and\n",
    "\n",
    "$$ (x_{i+1}, y_{i+1}) = \\begin{cases}\n",
    "(x_i, y_i) + (0, 1) & \\text{with probability } 1/4 \\\\\n",
    "(x_i, y_i) + (0, -1) & \\text{with probability } 1/4 \\\\\n",
    "(x_i, y_i) + (1, 0) & \\text{with probability } 1/4 \\\\\n",
    "(x_i, y_i) + (-1, 0) & \\text{with probability } 1/4. \\end{cases}\n",
    "$$\n",
    "\n",
    "Generate a 1000-step 2d random walk and plot the points $(x_i, y_i)$, connecting each $(x_i,y_i)$ to $(x_{i+1}, y_{i+1})$ with a straight line.  You could use `plt.plot` for this, or the [turtle module](https://docs.python.org/3.3/library/turtle.html?highlight=turtle)."
   ]
  },
  {
   "cell_type": "code",
   "execution_count": 0,
   "metadata": {
    "collapsed": false
   },
   "outputs": [
   ],
   "source": [
   ]
  },
  {
   "cell_type": "markdown",
   "metadata": {
    "collapsed": false
   },
   "source": [
    "## Part 4\n",
    "\n",
    "Generate 500 two-dimensional random walks of 1000 steps as in Exercise 3.\n",
    "\n",
    "Work out the average distance that these walks are from the origin after $i$ steps for $0 \\leq i \\leq 1000$.  **Plot the average distance after $i$ steps against $i$.  Find (by trial and error, or otherwise) a number $C$ such that the average distance is close to $C \\sqrt{i}$, and plot $y=C\\sqrt{x}$ on the same axes as your average distance plot.**\n",
    "\n",
    "To make it clear what you're being asked here: suppose you had only two random walks each of 3 steps, and the coordinates of the points in the walks were\n",
    "```\n",
    "[(0, 0), (x1, y1), (x2, y2), (x3, y3)]\n",
    "[(0, 0), (a1, b1), (a2, b2), (a3, b3)]\n",
    "```\n",
    "You can then use Pythagoras' theorem to work out the distances to the origin of each point in the walk - for example the distance from `(x1, y1)` to `(0, 0)` is `(x1 **2 + y1 **2) ** 0.5`.  Let's say the distances to the origin are\n",
    "\n",
    "```\n",
    "0, d1, d2, d3\n",
    "```\n",
    "in the first walk, and \n",
    "```\n",
    "0, e1, e2, e3\n",
    "```\n",
    "in the second. Then the average distances to the origin, which is what you're asked to compute, are\n",
    "```\n",
    "0, (d1+e1)/2, (d2+e2)/2, (d3+e3)/2.\n",
    "```\n",
    "and you are asked to plot the points with coordinates `(0, 0), (1, (d1+e1)/2), (2, (d2+e2)/2), (3, (d3+e3)/2)` using `plt.plot`.\n",
    "\n",
    "It may simplify your code if you record the distances from the origin in each of your 500 walks using an `np.array` rather than a Python list.  That way you can keep a cumulative sum of the distances with `cumulative_distances = cumulative_distances + current_walk_distances` inside a for loop generating the walks, and the average distances will then equal `cumulative_distances / 500`."
   ]
  },
  {
   "cell_type": "code",
   "execution_count": 0,
   "metadata": {
    "collapsed": false
   },
   "outputs": [
   ],
   "source": [
   ]
  },
  {
   "cell_type": "markdown",
   "metadata": {
    "collapsed": false
   },
   "source": [
    "# Submitting your project\n",
    "\n",
    "Have you done all of the following things?\n",
    "\n",
    "0. Included **all** minigroup members' student numbers at the top of this notebook.\n",
    "1. Read through every exercise to check you have answered every part.\n",
    "1. Carefully read and followed all of the [MATH0011 project instructions](https://www.ucl.ac.uk/~ucahmto/0011/projectinstructions.html).\n",
    "2. Checked that all of the code in this notebook works correctly.\n",
    "\n",
    "If you have, you're ready to submit.  One minigroup member only should download the completed notebook (in CoCalc, click the File menu next to the green Save button, then click Download) and submit it on the MATH0011 Moodle.  Please submit **only one file per minigroup.**"
   ]
  }
 ],
 "metadata": {
  "kernelspec": {
   "argv": [
    "/usr/bin/python3",
    "-m",
    "ipykernel",
    "--matplotlib=inline",
    "-c",
    "%config InlineBackend.figure_formats = set(['retina'])\nimport matplotlib; matplotlib.rcParams['figure.figsize'] = (12, 7)",
    "-f",
    "{connection_file}"
   ],
   "display_name": "Python 3 (system-wide)",
   "env": {
   },
   "language": "python",
   "metadata": {
    "cocalc": {
     "description": "Python 3 programming language",
     "priority": 100,
     "url": "https://www.python.org/"
    }
   },
   "name": "python3",
   "resource_dir": "/ext/jupyter/kernels/python3"
  },
  "language_info": {
   "codemirror_mode": {
    "name": "ipython",
    "version": 3
   },
   "file_extension": ".py",
   "mimetype": "text/x-python",
   "name": "python",
   "nbconvert_exporter": "python",
   "pygments_lexer": "ipython3",
   "version": "3.7.9"
  }
 },
 "nbformat": 4,
 "nbformat_minor": 4
}