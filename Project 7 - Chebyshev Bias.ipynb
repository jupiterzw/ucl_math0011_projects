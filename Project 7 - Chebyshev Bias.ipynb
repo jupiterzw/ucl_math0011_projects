{
 "cells": [
  {
   "cell_type": "markdown",
   "metadata": {
    "collapsed": false
   },
   "source": [
    "**Double click here and enter the student numbers for all minigroup members. Don't enter any names.**\n",
    "1. **First student number**\n",
    "2. **Second student number**\n",
    "3. **Third student number.**\n",
    "\n",
    "Before you start work on the project, **[click on this link to read the MATH0011 project instructions.](https://www.ucl.ac.uk/~ucahmto/0011/projectinstructions.html)**"
   ]
  },
  {
   "cell_type": "markdown",
   "metadata": {
    "collapsed": false
   },
   "source": [
    "# Project 7 - Chebyshev's Bias\n",
    "\n",
    "This project is about the [prime number theorem](https://en.wikipedia.org/wiki/Prime_number_theorem) and some curious results about the distribution of prime numbers known as Chebyshev's bias.\n",
    "\n",
    "The prime counting function $\\pi(x)$ is defined to be the number of prime number which are less than or equal to $x$.  For example, $\\pi(2)=1, \\pi(5) = 3, \\pi(10) = 4$.  The prime number theorem says that as $x$ grows, $\\pi(x)$ is approximately equal to $x / \\log(x)$ in the sense that\n",
    "\n",
    "$$\\lim_{x \\to \\infty}\\frac{\\pi(x)}{x / \\log(x)} = 1$$\n",
    "\n",
    "(Here and everywhere else in this project, $\\log$ means the logarithm to base $e$, sometimes written $\\ln$).\n",
    "\n",
    "In this project you will plot graphs to explore how close $\\pi(x)$ is to $x/\\log(x)$, explore a better approximation to $\\pi(x)$ given by\n",
    "\n",
    "$$ \\operatorname{Li}(x) = \\int_2^x \\frac{1}{\\log(t)} \\; \\mathrm{d}t,$$\n",
    "\n",
    "and explore functions counting the number of primes with given remainder on dividing by 6, which behave in a surprising way known as *Chebyshev's bias*.\n",
    "\n",
    "The next cell imports [`sympy`](https://www.sympy.org/en/index.html) which has a class `ntheory` containing many useful number theoretical functions, as well as some other useful modules."
   ]
  },
  {
   "cell_type": "code",
   "execution_count": 3,
   "metadata": {
    "collapsed": false
   },
   "outputs": [
   ],
   "source": [
    "import sympy as sp\n",
    "import matplotlib.pyplot as plt\n",
    "import numpy as np\n",
    "import math"
   ]
  },
  {
   "cell_type": "markdown",
   "metadata": {
    "collapsed": false
   },
   "source": [
    "## Part 0 (no marks)\n",
    "\n",
    "Look through [the online documentation for `sympy.ntheory`](https://docs.sympy.org/latest/modules/ntheory.html). You don't need to understand it in detail, but you will find functions there that are useful for this project.  Since we've imported sympy as `sp`, you can call `ntheory` functions like this:"
   ]
  },
  {
   "cell_type": "code",
   "execution_count": 0,
   "metadata": {
    "collapsed": false
   },
   "outputs": [
   ],
   "source": [
    "print(sp.ntheory.isprime(3))\n",
    "print(sp.ntheory.isprime(4))\n",
    "print(sp.ntheory.isprime(1111111111111111111))"
   ]
  },
  {
   "cell_type": "markdown",
   "metadata": {
    "collapsed": false
   },
   "source": [
    "## Part 1\n",
    "\n",
    "In this exercise you will produce some plots that illustrate the prime number theorem (PNT).\n",
    "\n",
    "First **plot $\\pi(x)$ and $x/\\log(x)$ on the *same* axis, for $10 \\leq x \\leq 10000$.**  \n",
    "\n",
    "Next, **on a different axis,** plot\n",
    "\n",
    "$$ y = \\frac{\\pi(x)}{x / \\log(x)} $$\n",
    "\n",
    "for $10 \\leq x \\leq 10000$. The Prime Number Theorem says that this quantity tends to 1 as $x \\to \\infty$.\n",
    "\n",
    "The function $\\pi(x)$ can be imported from the `sympy.ntheory` module."
   ]
  },
  {
   "cell_type": "code",
   "execution_count": 0,
   "metadata": {
    "collapsed": false
   },
   "outputs": [
   ],
   "source": [
   ]
  },
  {
   "cell_type": "code",
   "execution_count": 0,
   "metadata": {
    "collapsed": false
   },
   "outputs": [
   ],
   "source": [
   ]
  },
  {
   "cell_type": "markdown",
   "metadata": {
    "collapsed": false
   },
   "source": [
    "## Part 2\n",
    "\n",
    "Simpson's rule is a way of approximating the value of the integral $\\int_a ^b f(x) \\; \\mathrm{d}x$. \n",
    "The Simpson's rule approximation using $2N+1$ equally spaced points is\n",
    "$$ \\frac{b-a}{6N} \\left( f(x_0) + 4f(x_1) + 2f(x_2)+4f(x_3)+2f(x_4)+\\cdots +2f(x_{2N-2})+ 4f(x_{2N-1}) + f(x_{2N}) \\right)$$\n",
    "where $x_i = a + \\frac{b-a}{2N}i$ (in other words, the $x_i$ are $2N+1$ evenly spaced points starting at $a$ and ending at $b$).\n",
    "\n",
    "Write a function `simpson(f, a, b, N)` which outputs this approximation to $\\int_a^b f(x) \\; \\mathrm{d}x$.\n",
    "**You are asked to implement the rule yourself - don't import a function to do it for you.**  You could test your function by checking it gives a good approximation to $\\int_0^1 x^2\\; \\mathrm{d}x$ or some other integrals for which you can work out the exact answer.\n",
    "\n",
    "\n",
    "When you've done this, \n",
    " - **plot a graph of $y=\\pi(x)$ for** $10 \\leq x \\leq 10000$, and\n",
    " - **on the same axis plot $y=$ the Simpson's rule approximation to $\\operatorname{Li}(x)$ (as defined above) using $N=250$.**"
   ]
  },
  {
   "cell_type": "code",
   "execution_count": 0,
   "metadata": {
    "collapsed": false
   },
   "outputs": [
   ],
   "source": [
   ]
  },
  {
   "cell_type": "code",
   "execution_count": 0,
   "metadata": {
    "collapsed": false
   },
   "outputs": [
   ],
   "source": [
   ]
  },
  {
   "cell_type": "markdown",
   "metadata": {
    "collapsed": false
   },
   "source": [
    "## Part 3\n",
    "\n",
    "Define $\\pi_{6,1}(x)$ to be the number of primes less than or equal to $x$ which have remainder 1 when you divide by 6 (that is, the number of primes $\\leq x$ which can be written as $6k+1$ for some whole number $k$).  Similarly define $\\pi_{6,5}(x)$ to be the number of primes $\\leq x$ which leave remainder 5 when you divide by 6.\n",
    "\n",
    "For example\n",
    "- $\\pi_{6,1}(20) = 3$ as the primes $\\leq 20$ which have remainder 1 when you divide by 6 are 7, 13, and 19.\n",
    "- $\\pi_{6,5}(20)=3$ as the primes $\\leq 20$ which have remainder 5 when you divide by 6 are 5, 11, and 17.\n",
    "\n",
    "**Write functions `pi61(x)` and `pi65(x)` which compute $\\pi_{6,1}(x)$ and $\\pi_{6,5}(x)$ respectively.**"
   ]
  },
  {
   "cell_type": "code",
   "execution_count": 0,
   "metadata": {
    "collapsed": false
   },
   "outputs": [
   ],
   "source": [
   ]
  },
  {
   "cell_type": "code",
   "execution_count": 0,
   "metadata": {
    "collapsed": false
   },
   "outputs": [
   ],
   "source": [
   ]
  },
  {
   "cell_type": "markdown",
   "metadata": {
    "collapsed": false
   },
   "source": [
    "## Part 4\n",
    "\n",
    "Every prime number greater than 3 has remainder 1 or 5 when you divide by 6, and there is no obvious reason why either 1 or 5 should happen more frequently than the other.  However, it turns out that primes with remainder 5 happen slightly more often - this is called *Chebyshev's bias* after the Russian mathematician who discovered it.\n",
    "\n",
    "**Plot `pi61(x)` and `pi65(x)` on the same axes, for $10 \\leq x \\leq 10000$.**  You should see Chebyshev's bias in action."
   ]
  },
  {
   "cell_type": "code",
   "execution_count": 0,
   "metadata": {
    "collapsed": false
   },
   "outputs": [
   ],
   "source": [
   ]
  },
  {
   "cell_type": "markdown",
   "metadata": {
    "collapsed": false
   },
   "source": [
    "# Submitting your project\n",
    "\n",
    "Have you done all of the following things?\n",
    "\n",
    "0. Included **all** minigroup members' student numbers at the top of this notebook.\n",
    "1. Read through every exercise to check you have answered every part.\n",
    "1. Carefully read and followed all of the [MATH0011 project instructions](https://www.ucl.ac.uk/~ucahmto/0011/projectinstructions.html).\n",
    "2. Checked that all of the code in this notebook works correctly.\n",
    "\n",
    "If you have, you're ready to submit.  One minigroup member only should download the completed notebook (in CoCalc, click the File menu next to the green Save button, then click Download) and submit it on the MATH0011 Moodle.  Please submit **only one file per minigroup.**"
   ]
  }
 ],
 "metadata": {
  "kernelspec": {
   "argv": [
    "/usr/bin/python3",
    "-m",
    "ipykernel",
    "--matplotlib=inline",
    "-c",
    "%config InlineBackend.figure_formats = set(['retina'])\nimport matplotlib; matplotlib.rcParams['figure.figsize'] = (12, 7)",
    "-f",
    "{connection_file}"
   ],
   "display_name": "Python 3 (system-wide)",
   "env": {
   },
   "language": "python",
   "metadata": {
    "cocalc": {
     "description": "Python 3 programming language",
     "priority": 100,
     "url": "https://www.python.org/"
    }
   },
   "name": "python3",
   "resource_dir": "/ext/jupyter/kernels/python3"
  },
  "language_info": {
   "codemirror_mode": {
    "name": "ipython",
    "version": 3
   },
   "file_extension": ".py",
   "mimetype": "text/x-python",
   "name": "python",
   "nbconvert_exporter": "python",
   "pygments_lexer": "ipython3",
   "version": "3.7.9"
  }
 },
 "nbformat": 4,
 "nbformat_minor": 4
}